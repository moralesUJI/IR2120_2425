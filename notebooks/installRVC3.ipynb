{
 "cells": [
  {
   "cell_type": "markdown",
   "metadata": {},
   "source": [
    "## Preparing the running setup for a RVC3 python library \n",
    "\n",
    "In order to run the code and examples written with the Robotics, Vision and Control library you need to prepare your computer environment. It is highly recommendable to use a python software manager like pip, conda o mamba. Here, I explain a fresh installation using **mamba on a Linux/Macosx** computer. \n",
    "\n",
    "_(Warning: the installation can take up to 2gb)_\n",
    "\n",
    "1. Install [Miniforge](https://github.com/conda-forge/miniforge) \n",
    "   ```console \n",
    "   curl -L -O \"https://github.com/conda-forge/miniforge/releases/latest/download/Miniforge3-$(uname)-$(uname -m).sh\"\n",
    "   \n",
    "   bash Miniforge3-$(uname)-$(uname -m).sh\n",
    "    ```\n",
    "\n",
    "2. Create a _mamba_ environment for running RVC3  \n",
    "   ```console\n",
    "   mamba create -n rvc3 python=3.10\n",
    "   mamba activate rvc3\n",
    "   pip install rvc3python\n",
    "   pip install ipympl \n",
    "   ``` \n",
    "\n",
    "3. Create a workspace for the source code of RVC3 and downloading repositories  \n",
    "   ```console\n",
    "   mkdir rvc3_ws\n",
    "   cd rvc3_ws\n",
    "   git clone https://github.com/petercorke/RVC3-python.git\n",
    "   ```\n",
    "\n",
    "4. Testing the installation  \n",
    "   ```console\n",
    "   rvctool -n -a -c\n",
    "   ```\n",
    "Once in the shell you can type\n",
    " \n",
    "```console\n",
    "   puma = models.DH.puma560()\n",
    "   puma.teach(puma.qz)\n",
    "```"
   ]
  },
  {
   "cell_type": "markdown",
   "metadata": {},
   "source": []
  }
 ],
 "metadata": {
  "kernelspec": {
   "display_name": "rvc3",
   "language": "python",
   "name": "python3"
  },
  "language_info": {
   "codemirror_mode": {
    "name": "ipython",
    "version": 3
   },
   "file_extension": ".py",
   "mimetype": "text/x-python",
   "name": "python",
   "nbconvert_exporter": "python",
   "pygments_lexer": "ipython3",
   "version": "3.10.14"
  }
 },
 "nbformat": 4,
 "nbformat_minor": 2
}
