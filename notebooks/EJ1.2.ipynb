{
 "cells": [
  {
   "cell_type": "markdown",
   "metadata": {},
   "source": [
    "# Ejercicio 1.2\n",
    "## Cálculo de la cinemática directa mediante composición de transformaciones\n",
    "\n",
    "AL siguiente manipulador plano con tres articulaciones de revolución le hemos asignado  los sistemas indicados en la figura. \n",
    "\n",
    "![](images/ej12.1.png)\n",
    "\n",
    "Este robot lo representamos mediante tres vectores de _python_:\n",
    "\n",
    "L = [${_0}r_1$, ${_1}r_2$, ${_2}r_3$] \\\n",
    "J = [$\\theta_0$, $\\theta_1$, $\\theta_2$] \\\n",
    "T = ['R', 'R'. 'R'] \n",
    "\n",
    "Donde `L` es la longitud de los eslabones; `J` el valor de las variables articulares; y `T` el tipo de cada articulación (`R` revolución y `P` prismática).\n",
    "\n",
    "Debes escribir un código que a partir de estos datos de entrada calcule la transformación desde el origen al TCP. Este código deberá ser generalizable a robots planos con otras configuraciones, tales como `RRP`, `RR`, `PRRP`, etc.\n"
   ]
  },
  {
   "cell_type": "code",
   "execution_count": null,
   "metadata": {},
   "outputs": [],
   "source": [
    "# Este bloque identifica si se ejecuta en colab o localmente\n",
    "try:\n",
    "    import google.colab\n",
    "    %pip install rvc3python\n",
    "    print(\"Running in Google Colab\")\n",
    "except:\n",
    "    print(\"Not running in Google Colab\")"
   ]
  },
  {
   "cell_type": "code",
   "execution_count": 3,
   "metadata": {},
   "outputs": [],
   "source": [
    "# Definición las librerías a utilizar\n",
    "import matplotlib.pyplot as plt\n",
    "from spatialmath import *\n",
    "from spatialmath.base import *\n",
    "from roboticstoolbox import *\n",
    "import numpy as np\n",
    "\n",
    "%matplotlib inline\n",
    "\n",
    "from math import pi"
   ]
  },
  {
   "cell_type": "markdown",
   "metadata": {},
   "source": [
    "Para el robot puesto como ejemplo el código con `R = [1.5,1, 1]` y `J = [pi/3, -pi/3, pi/4]`deberá producir como resultado un listado con todas las transformaciones similar a:\n",
    "```console\n",
    "[0] =\n",
    "   1         0         0         \n",
    "   0         1         0         \n",
    "   0         0         1         \n",
    "[1] =\n",
    "   0.5      -0.866     0.75      \n",
    "   0.866     0.5       1.299     \n",
    "   0         0         1         \n",
    "[2] =\n",
    "   0.5       0.866     0.5       \n",
    "  -0.866     0.5      -0.866     \n",
    "   0         0         1         \n",
    "[3] =\n",
    "   0.7071   -0.7071    0.7071    \n",
    "   0.7071    0.7071    0.7071    \n",
    "   0         0         1         \n",
    "```\n",
    "\n",
    "Además el resultado de la transformación completa debería ser:\n",
    "```console\n",
    "   0.7071   -0.7071    2.457     \n",
    "   0.7071    0.7071    2.006     \n",
    "   0         0         1         \n",
    "```"
   ]
  },
  {
   "cell_type": "code",
   "execution_count": null,
   "metadata": {},
   "outputs": [],
   "source": [
    "# Escribe aquí tu código"
   ]
  },
  {
   "cell_type": "markdown",
   "metadata": {},
   "source": [
    "Como ejercicio más avanzado escribe el código para representar el anterior caso gráficamente. El resultado debería ser:\n",
    "\n",
    "![](images/ej12.2.png)"
   ]
  },
  {
   "cell_type": "code",
   "execution_count": null,
   "metadata": {},
   "outputs": [],
   "source": [
    "# Escribe aquí tu código"
   ]
  }
 ],
 "metadata": {
  "kernelspec": {
   "display_name": "rvc3",
   "language": "python",
   "name": "python3"
  },
  "language_info": {
   "codemirror_mode": {
    "name": "ipython",
    "version": 3
   },
   "file_extension": ".py",
   "mimetype": "text/x-python",
   "name": "python",
   "nbconvert_exporter": "python",
   "pygments_lexer": "ipython3",
   "version": "3.10.14"
  }
 },
 "nbformat": 4,
 "nbformat_minor": 2
}
