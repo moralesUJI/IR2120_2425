{
 "cells": [
  {
   "cell_type": "code",
   "execution_count": 3,
   "metadata": {},
   "outputs": [
    {
     "name": "stdout",
     "output_type": "stream",
     "text": [
      "Not running in Google Colab\n"
     ]
    }
   ],
   "source": [
    "try:\n",
    "    # We must install required packages if we are in Google Colab\n",
    "    import google.colab\n",
    "    %pip install rvc3python\n",
    "    print(\"Running in Google Colab\")\n",
    "except:\n",
    "    print(\"Not running in Google Colab\")"
   ]
  },
  {
   "cell_type": "markdown",
   "metadata": {},
   "source": [
    "# Ejercicio 1.1\n",
    "## Interpolación entre dos transformaciones\n",
    "\n",
    "Dadas dos trasformaciones 2D $A$ = $B$ definidas por las coordandas del punto de origen y un ángulo de rotación:\n",
    "\n",
    "- $\\{A\\}$ = $\\{ (1,1), {pi} / {2}\\}$\n",
    "- $\\{B\\}$ = $\\{ (5,3), -{pi} / {4}\\}$\n",
    "\n",
    "Calcula 10 transfomraciones interemedias que represneten la transformación de A a B. Representalas gráficamente. el resultado debería ser similar al de la siguiente figura.\n",
    "\n",
    "![](images/ej11.1.png)\n",
    "\n",
    "## _Pistas_\n",
    "\n",
    "Dada una transformación `SE2() T' es posible representarla gráficamente mediante el comando\n",
    "\n",
    "```console\n",
    "    T.plot(frame = 'T', color='green', width = 0.2, dims=[-1,10, -1, 6])\n",
    "````\n",
    "\n",
    "La primera vez que se ejecute un `plot` se creará la figura. Las siguientes llamadas dibujaran los frames en la misma figura.\n",
    "\n",
    "```console\n",
    "    t.plot(frame = 'T2', color='blue', width = 0.2)\n",
    "```\n",
    "\n"
   ]
  },
  {
   "cell_type": "code",
   "execution_count": 4,
   "metadata": {},
   "outputs": [],
   "source": [
    "import matplotlib.pyplot as plt\n",
    "from spatialmath import *\n",
    "from spatialmath.base import *\n",
    "from roboticstoolbox import *\n",
    "import numpy as np\n",
    "\n",
    "%matplotlib inline\n",
    "\n",
    "from math import pi"
   ]
  },
  {
   "cell_type": "code",
   "execution_count": null,
   "metadata": {},
   "outputs": [],
   "source": []
  }
 ],
 "metadata": {
  "kernelspec": {
   "display_name": "RVC3",
   "language": "python",
   "name": "python3"
  },
  "language_info": {
   "codemirror_mode": {
    "name": "ipython",
    "version": 3
   },
   "file_extension": ".py",
   "mimetype": "text/x-python",
   "name": "python",
   "nbconvert_exporter": "python",
   "pygments_lexer": "ipython3",
   "version": "3.10.14"
  }
 },
 "nbformat": 4,
 "nbformat_minor": 2
}
